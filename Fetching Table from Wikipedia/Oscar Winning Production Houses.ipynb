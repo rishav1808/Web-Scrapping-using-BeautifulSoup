{
 "cells": [
  {
   "cell_type": "code",
   "execution_count": 29,
   "id": "88005c15",
   "metadata": {},
   "outputs": [],
   "source": [
    "# Task--> Scrap the Academy Award Page in Wikipedia and Scrape the Production Houses Record Table\n",
    "from urllib.request import urlopen\n",
    "webpage=\"https://en.wikipedia.org/wiki/Academy_Award_for_Best_Picture\"\n",
    "oscar_webpage=urlopen(webpage)\n",
    "type(oscar_webpage)\n",
    "oscar_html=oscar_webpage.read()\n",
    "oscar_webpage.close()"
   ]
  },
  {
   "cell_type": "code",
   "execution_count": 104,
   "id": "605dbf43",
   "metadata": {},
   "outputs": [
    {
     "data": {
      "text/plain": [
       "<h1 class=\"firstHeading\" id=\"firstHeading\">Academy Award for Best Picture</h1>"
      ]
     },
     "execution_count": 104,
     "metadata": {},
     "output_type": "execute_result"
    }
   ],
   "source": [
    "from bs4 import BeautifulSoup as soup\n",
    "oscar_data=soup(oscar_html,\"html.parser\")\n",
    "oscar_data.h1\n",
    "#print(oscar_data.prettify())      Makes teh html readable"
   ]
  },
  {
   "cell_type": "code",
   "execution_count": 53,
   "id": "a8278ed9",
   "metadata": {},
   "outputs": [
    {
     "name": "stdout",
     "output_type": "stream",
     "text": [
      "22\n"
     ]
    }
   ],
   "source": [
    "tables=oscar_data.findAll('table',{}) #Now we are scrapping all the tables\n",
    "print(len(tables))"
   ]
  },
  {
   "cell_type": "code",
   "execution_count": 105,
   "id": "dff4eff2",
   "metadata": {},
   "outputs": [],
   "source": [
    "#print(tables[15].prettify())  This is our table."
   ]
  },
  {
   "cell_type": "code",
   "execution_count": 75,
   "id": "6721b1ef",
   "metadata": {},
   "outputs": [
    {
     "name": "stdout",
     "output_type": "stream",
     "text": [
      "[<th scope=\"col\">Production Company\n",
      "</th>, <th scope=\"col\">Nominations\n",
      "</th>, <th scope=\"col\">Wins\n",
      "</th>]\n"
     ]
    }
   ],
   "source": [
    "our_table=tables[15] #This is the table we need to work on.\n",
    "#Usually we would use tables.findAll('table',{'class:'name'}) to scrape the desired table but here\n",
    "#the class name is multi worded and so this method didn't work so I had to find our table manually :(\n",
    "column_heading=our_table.findAll('th',{})  #First row of our table has all the column headings\n",
    "print(column_heading)"
   ]
  },
  {
   "cell_type": "code",
   "execution_count": 107,
   "id": "c0c1e01b",
   "metadata": {},
   "outputs": [
    {
     "name": "stdout",
     "output_type": "stream",
     "text": [
      "['Production Company', 'Nominations', 'Wins']\n"
     ]
    }
   ],
   "source": [
    "cols=[x.text[:-1] for x in column_heading] #Scrapping all the headings in a list as text\n",
    "print(cols)"
   ]
  },
  {
   "cell_type": "code",
   "execution_count": 108,
   "id": "cbc55989",
   "metadata": {},
   "outputs": [],
   "source": [
    "row_data=our_table.findAll('tr')[1:] #Scapres all the row data from the table\n",
    "#print(row_data)"
   ]
  },
  {
   "cell_type": "code",
   "execution_count": 92,
   "id": "05c2aef8",
   "metadata": {},
   "outputs": [
    {
     "name": "stdout",
     "output_type": "stream",
     "text": [
      "[['20th Century Studios', '62', '9'], ['Columbia Pictures', '56', '12'], ['Metro-Goldwyn-Mayer', '40', '9'], ['Universal Pictures', '34', '9'], ['Warner Bros. Pictures', '25', '9'], ['Paramount Pictures', '20', '11'], ['Searchlight Pictures', '19', '5'], ['Miramax Films', '15', '4'], ['DreamWorks', '13', '4'], ['RKO Pictures', '11', '1'], ['Focus Features', '10', '0'], ['Plan B Entertainment', '8', '3'], ['Samuel Goldwyn Productions', '8', '1'], ['Orion Pictures', '6', '4'], ['Touchstone Pictures', '6', '0'], ['The Weinstein Company', '6', '2'], ['Selznick International Pictures', '5', '2'], ['Annapurna Pictures', '5', '0'], ['Netflix', '5', '0'], ['A24', '4', '1'], ['Walt Disney Pictures', '4', '0'], ['J. Arthur Rank-Two Cities Films', '3', '1'], ['New Line Cinema', '3', '1'], ['Cosmopolitan', '3', '0'], ['Amazon Studios', '2', '0'], ['Pixar Animation Studios', '2', '0'], ['Hollywood Pictures', '2', '0'], ['The Caddo Company', '2', '0'], ['Walter Wanger (production company)', '2', '0'], ['Mercury', '2', '0']]\n"
     ]
    }
   ],
   "source": [
    "final_row_data=[] # Stores all the row data as a list\n",
    "\n",
    "for x in row_data: \n",
    "    current_row=[] #Stores data of current row\n",
    "    c_row=x.findAll('td')\n",
    "    for data in c_row:\n",
    "        current_row.append(data.text[:-1])#Now stores all the data of current row one by one in the \n",
    "    #current_row list and finally after one complete iteration inner loop,stores current_row data in \n",
    "    #final_row\n",
    "    final_row_data.append(current_row)#Each row is stored as a list in this list\n",
    "print(final_row_data)  \n"
   ]
  },
  {
   "cell_type": "code",
   "execution_count": 96,
   "id": "6b8a7616",
   "metadata": {},
   "outputs": [],
   "source": [
    "file=\"movie_productions_records.csv\"#CSV file which will store our data\n",
    "with open(file,\"w\",encoding=\"utf-8\") as f:\n",
    "    col_name_string=','.join(cols)#Storing column name and seprating each column by ,\n",
    "    col_name_string+=\"\\n\"  #So that the pointer is on the next line\n",
    "    f.write(col_name_string)#Storing col names in our file\n",
    "    \n",
    "    for x in final_row_data:#For each row\n",
    "        row_name_string=','.join(x)#Store each row with items in a row seprated by ,\n",
    "        row_name_string+=\"\\n\"#New row comes in next line\n",
    "        f.write(row_name_string)#Storing rows one by one in the file\n",
    "        "
   ]
  },
  {
   "cell_type": "code",
   "execution_count": 109,
   "id": "05a25a89",
   "metadata": {},
   "outputs": [
    {
     "data": {
      "text/html": [
       "<div>\n",
       "<style scoped>\n",
       "    .dataframe tbody tr th:only-of-type {\n",
       "        vertical-align: middle;\n",
       "    }\n",
       "\n",
       "    .dataframe tbody tr th {\n",
       "        vertical-align: top;\n",
       "    }\n",
       "\n",
       "    .dataframe thead th {\n",
       "        text-align: right;\n",
       "    }\n",
       "</style>\n",
       "<table border=\"1\" class=\"dataframe\">\n",
       "  <thead>\n",
       "    <tr style=\"text-align: right;\">\n",
       "      <th></th>\n",
       "      <th>Production Company</th>\n",
       "      <th>Nominations</th>\n",
       "      <th>Wins</th>\n",
       "    </tr>\n",
       "  </thead>\n",
       "  <tbody>\n",
       "    <tr>\n",
       "      <th>0</th>\n",
       "      <td>20th Century Studios</td>\n",
       "      <td>62</td>\n",
       "      <td>9</td>\n",
       "    </tr>\n",
       "    <tr>\n",
       "      <th>1</th>\n",
       "      <td>Columbia Pictures</td>\n",
       "      <td>56</td>\n",
       "      <td>12</td>\n",
       "    </tr>\n",
       "    <tr>\n",
       "      <th>2</th>\n",
       "      <td>Metro-Goldwyn-Mayer</td>\n",
       "      <td>40</td>\n",
       "      <td>9</td>\n",
       "    </tr>\n",
       "    <tr>\n",
       "      <th>3</th>\n",
       "      <td>Universal Pictures</td>\n",
       "      <td>34</td>\n",
       "      <td>9</td>\n",
       "    </tr>\n",
       "    <tr>\n",
       "      <th>4</th>\n",
       "      <td>Warner Bros. Pictures</td>\n",
       "      <td>25</td>\n",
       "      <td>9</td>\n",
       "    </tr>\n",
       "  </tbody>\n",
       "</table>\n",
       "</div>"
      ],
      "text/plain": [
       "      Production Company  Nominations  Wins\n",
       "0   20th Century Studios           62     9\n",
       "1      Columbia Pictures           56    12\n",
       "2    Metro-Goldwyn-Mayer           40     9\n",
       "3     Universal Pictures           34     9\n",
       "4  Warner Bros. Pictures           25     9"
      ]
     },
     "execution_count": 109,
     "metadata": {},
     "output_type": "execute_result"
    }
   ],
   "source": [
    "import pandas as pd\n",
    "data_frame=pd.read_csv(file) #Each row is treated as a data frame by Pandas\n",
    "data_frame.head(n=40)# .head() prints the row of the table"
   ]
  },
  {
   "cell_type": "code",
   "execution_count": null,
   "id": "c690e372",
   "metadata": {},
   "outputs": [],
   "source": []
  }
 ],
 "metadata": {
  "kernelspec": {
   "display_name": "Python 3 (ipykernel)",
   "language": "python",
   "name": "python3"
  },
  "language_info": {
   "codemirror_mode": {
    "name": "ipython",
    "version": 3
   },
   "file_extension": ".py",
   "mimetype": "text/x-python",
   "name": "python",
   "nbconvert_exporter": "python",
   "pygments_lexer": "ipython3",
   "version": "3.7.9"
  }
 },
 "nbformat": 4,
 "nbformat_minor": 5
}
