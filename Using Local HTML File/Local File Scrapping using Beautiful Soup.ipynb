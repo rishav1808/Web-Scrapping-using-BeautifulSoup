{
 "cells": [
  {
   "cell_type": "code",
   "execution_count": 1,
   "id": "3ae0c225",
   "metadata": {},
   "outputs": [
    {
     "name": "stdout",
     "output_type": "stream",
     "text": [
      "<!DOCTYPE html>\n",
      "<html lang=\"en\">\n",
      " <head>\n",
      "  <meta charset=\"utf-8\"/>\n",
      "  <meta content=\"width=device-width, initial-scale=1.0\" name=\"viewport\"/>\n",
      "  <title>\n",
      "   Form Basics\n",
      "  </title>\n",
      " </head>\n",
      " <body>\n",
      "  <h1>\n",
      "   Forms Bascis\n",
      "  </h1>\n",
      "  <form action=\"\" method=\"POST\">\n",
      "   <div>\n",
      "    <button type=\"button\">\n",
      "     Tippy Top\n",
      "    </button>\n",
      "    <label for=\"Username\">\n",
      "     Username:\n",
      "    </label>\n",
      "    <input id=\"Username\" placeholder=\"Username\" type=\"text\"/>\n",
      "    <br/>\n",
      "    <label for=\"\">\n",
      "     Email\n",
      "    </label>\n",
      "    <button>\n",
      "     Middle\n",
      "    </button>\n",
      "    <input placeholder=\"Email\" type=\"email\"/>\n",
      "    <br/>\n",
      "    <label for=\"\">\n",
      "     Password\n",
      "    </label>\n",
      "    <input placeholder=\"Password\" type=\"password\"/>\n",
      "    <br/>\n",
      "    <input type=\"color\"/>\n",
      "    <button type=\"submit\">\n",
      "     Submit\n",
      "    </button>\n",
      "   </div>\n",
      "  </form>\n",
      "  <form action=\"\">\n",
      "   <label for=\"xs\">\n",
      "    XS:\n",
      "   </label>\n",
      "   <input id=\"xs\" name=\"size\" type=\"radio\" value=\"xs\"/>\n",
      "   <label for=\"s\">\n",
      "    S:\n",
      "   </label>\n",
      "   <input id=\"s\" name=\"size\" type=\"radio\" value=\"s\"/>\n",
      "   <label for=\"m\">\n",
      "    M:\n",
      "   </label>\n",
      "   <input id=\"m\" name=\"size\" type=\"radio\" value=\"m\"/>\n",
      "   <label for=\"l\">\n",
      "    L:\n",
      "   </label>\n",
      "   <input id=\"l\" name=\"size\" type=\"radio\" value=\"l\"/>\n",
      "   <button>\n",
      "    Submit\n",
      "   </button>\n",
      "  </form>\n",
      " </body>\n",
      "</html>\n"
     ]
    }
   ],
   "source": [
    "from bs4 import BeautifulSoup as soup\n",
    "with open(\"forms.html\",\"r\") as file:\n",
    "    doc=soup(file,\"html.parser\")\n",
    "print(doc.prettify())"
   ]
  },
  {
   "cell_type": "code",
   "execution_count": null,
   "id": "4b843951",
   "metadata": {},
   "outputs": [],
   "source": []
  }
 ],
 "metadata": {
  "kernelspec": {
   "display_name": "Python 3 (ipykernel)",
   "language": "python",
   "name": "python3"
  },
  "language_info": {
   "codemirror_mode": {
    "name": "ipython",
    "version": 3
   },
   "file_extension": ".py",
   "mimetype": "text/x-python",
   "name": "python",
   "nbconvert_exporter": "python",
   "pygments_lexer": "ipython3",
   "version": "3.7.9"
  }
 },
 "nbformat": 4,
 "nbformat_minor": 5
}
