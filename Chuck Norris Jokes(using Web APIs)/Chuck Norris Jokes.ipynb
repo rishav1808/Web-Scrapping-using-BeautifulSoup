{
 "cells": [
  {
   "cell_type": "code",
   "execution_count": 17,
   "id": "5cc08436",
   "metadata": {},
   "outputs": [
    {
     "name": "stdout",
     "output_type": "stream",
     "text": [
      "<class 'str'>\n"
     ]
    }
   ],
   "source": [
    "import requests\n",
    "webpage=\"http://api.icndb.com/jokes/1\"\n",
    "response=requests.get(webpage)\n",
    "print(type(response.text))"
   ]
  },
  {
   "cell_type": "code",
   "execution_count": 19,
   "id": "4f4d2189",
   "metadata": {},
   "outputs": [
    {
     "data": {
      "text/plain": [
       "{'type': 'success',\n",
       " 'value': {'id': 1,\n",
       "  'joke': 'Chuck Norris uses ribbed condoms inside out, so he gets the pleasure.',\n",
       "  'categories': ['explicit']}}"
      ]
     },
     "execution_count": 19,
     "metadata": {},
     "output_type": "execute_result"
    }
   ],
   "source": [
    "import json\n",
    "json_data=json.loads(response.text)\n",
    "json_data"
   ]
  },
  {
   "cell_type": "code",
   "execution_count": 20,
   "id": "e14c037a",
   "metadata": {},
   "outputs": [
    {
     "data": {
      "text/plain": [
       "'Chuck Norris uses ribbed condoms inside out, so he gets the pleasure.'"
      ]
     },
     "execution_count": 20,
     "metadata": {},
     "output_type": "execute_result"
    }
   ],
   "source": [
    "x=json_data['value']\n",
    "x['joke']"
   ]
  },
  {
   "cell_type": "code",
   "execution_count": null,
   "id": "0d3f1083",
   "metadata": {},
   "outputs": [],
   "source": []
  },
  {
   "cell_type": "code",
   "execution_count": null,
   "id": "237e5f05",
   "metadata": {},
   "outputs": [],
   "source": []
  }
 ],
 "metadata": {
  "kernelspec": {
   "display_name": "Python 3 (ipykernel)",
   "language": "python",
   "name": "python3"
  },
  "language_info": {
   "codemirror_mode": {
    "name": "ipython",
    "version": 3
   },
   "file_extension": ".py",
   "mimetype": "text/x-python",
   "name": "python",
   "nbconvert_exporter": "python",
   "pygments_lexer": "ipython3",
   "version": "3.7.9"
  }
 },
 "nbformat": 4,
 "nbformat_minor": 5
}
