{
 "cells": [
  {
   "cell_type": "markdown",
   "id": "97851805",
   "metadata": {},
   "source": [
    "## Scrapping Images from Websites"
   ]
  },
  {
   "cell_type": "code",
   "execution_count": 1,
   "id": "b4be869f",
   "metadata": {},
   "outputs": [
    {
     "name": "stdout",
     "output_type": "stream",
     "text": [
      "Requirement already satisfied: requests in c:\\users\\asus\\appdata\\local\\programs\\python\\python37\\lib\\site-packages (2.25.1)\n",
      "Requirement already satisfied: idna<3,>=2.5 in c:\\users\\asus\\appdata\\local\\programs\\python\\python37\\lib\\site-packages (from requests) (2.10)\n",
      "Requirement already satisfied: certifi>=2017.4.17 in c:\\users\\asus\\appdata\\local\\programs\\python\\python37\\lib\\site-packages (from requests) (2021.5.30)\n",
      "Requirement already satisfied: chardet<5,>=3.0.2 in c:\\users\\asus\\appdata\\local\\programs\\python\\python37\\lib\\site-packages (from requests) (4.0.0)\n",
      "Requirement already satisfied: urllib3<1.27,>=1.21.1 in c:\\users\\asus\\appdata\\local\\programs\\python\\python37\\lib\\site-packages (from requests) (1.26.6)\n",
      "Note: you may need to restart the kernel to use updated packages.\n"
     ]
    },
    {
     "name": "stderr",
     "output_type": "stream",
     "text": [
      "WARNING: You are using pip version 21.1.3; however, version 21.3.1 is available.\n",
      "You should consider upgrading via the 'c:\\users\\asus\\appdata\\local\\programs\\python\\python37\\python.exe -m pip install --upgrade pip' command.\n"
     ]
    }
   ],
   "source": [
    "pip install requests"
   ]
  },
  {
   "cell_type": "code",
   "execution_count": 11,
   "id": "7cf55c38",
   "metadata": {},
   "outputs": [
    {
     "name": "stdout",
     "output_type": "stream",
     "text": [
      "<class 'requests.models.Response'>\n"
     ]
    }
   ],
   "source": [
    "import requests\n",
    "from bs4 import BeautifulSoup as soup\n",
    "webpage=\"https://www.passiton.com/inspirational-quotes?page=2\"\n",
    "response=requests.get(webpage)\n",
    "print(type(response))\n",
    "response.content #or response.text returns the content of the wepage"
   ]
  },
  {
   "cell_type": "code",
   "execution_count": 59,
   "id": "9f18c97a",
   "metadata": {},
   "outputs": [
    {
     "name": "stderr",
     "output_type": "stream",
     "text": [
      "Some characters could not be decoded, and were replaced with REPLACEMENT CHARACTER.\n"
     ]
    },
    {
     "name": "stdout",
     "output_type": "stream",
     "text": [
      "<class 'bs4.BeautifulSoup'>\n"
     ]
    }
   ],
   "source": [
    "obj=soup(response.content,\"html.parser\")\n",
    "print(type(obj))\n",
    "obj #returns soup object"
   ]
  },
  {
   "cell_type": "code",
   "execution_count": 16,
   "id": "65319b60",
   "metadata": {},
   "outputs": [
    {
     "data": {
      "text/plain": [
       "<img alt=\"Pass It On\" class=\"logo-dark\" data-rjs=\"/assets/site/logo@2x-77b9f4fa1e4bafa6ff119f8f162b7bd9.png\" src=\"/assets/site/logo-6d680decaadef58e4fbb586e147bc135.png\"/>"
      ]
     },
     "execution_count": 16,
     "metadata": {},
     "output_type": "execute_result"
    }
   ],
   "source": [
    "obj.img"
   ]
  },
  {
   "cell_type": "code",
   "execution_count": 56,
   "id": "20cb0710",
   "metadata": {},
   "outputs": [
    {
     "data": {
      "text/plain": [
       "<a href=\"/inspirational-quotes/8080-we-think-we-listen-but-very-rarely-do-we\"><img alt=\"We think we listen, but very rarely do we listen with real understanding, true empathy. Yet listening, of this very special kind, is one of the most potent forces for change that I know. #&lt;Author:0x0000555c2c2ded48&gt;\" class=\"margin-10px-bottom shadow\" height=\"310\" src=\"https://assets.passiton.com/quotes/quote_artwork/8080/medium/20210915_wednesday_quote.jpg?1631298835\" width=\"310\"/></a>"
      ]
     },
     "execution_count": 56,
     "metadata": {},
     "output_type": "execute_result"
    }
   ],
   "source": [
    "divs=obj.findAll('div',{'class':'col-6 col-lg-3 text-center margin-30px-bottom sm-margin-30px-top'})\n",
    "first_image=divs[0].a.img.attrs['src']# divs is a list of all div tags\n",
    "#inside divs we 'anchor(a) tags and inside anchor tags we have img tag and we want the src of img'\n",
    "#img is child of a , a is child of div and we need the source attribute of the img tag\n",
    "first_article=divs[0].a\n",
    "first_article"
   ]
  },
  {
   "cell_type": "code",
   "execution_count": 57,
   "id": "1ea58ebb",
   "metadata": {},
   "outputs": [],
   "source": [
    "with open('image1.jpg','wb') as file: #Creates a file which will contain the image\n",
    "    image_url=first_article.img.attrs['src'] \n",
    "    response=requests.get(image_url)#Call the website\n",
    "    file.write(response.content)#write in file"
   ]
  },
  {
   "cell_type": "code",
   "execution_count": 58,
   "id": "a2f71acd",
   "metadata": {},
   "outputs": [],
   "source": [
    "for index,div in enumerate(divs):\n",
    "    with open('image{}.jpg'.format(index),'wb') as file:# for n divs use fo loop n times,create n files\n",
    "        image=div.a.img.attrs['src']                #and store images in each file\n",
    "        img_url=requests.get(image) #call the webpage response\n",
    "        file.write(img_url.content)#store the content that we want i.e. image"
   ]
  },
  {
   "cell_type": "code",
   "execution_count": null,
   "id": "2eee4514",
   "metadata": {},
   "outputs": [],
   "source": []
  }
 ],
 "metadata": {
  "kernelspec": {
   "display_name": "Python 3 (ipykernel)",
   "language": "python",
   "name": "python3"
  },
  "language_info": {
   "codemirror_mode": {
    "name": "ipython",
    "version": 3
   },
   "file_extension": ".py",
   "mimetype": "text/x-python",
   "name": "python",
   "nbconvert_exporter": "python",
   "pygments_lexer": "ipython3",
   "version": "3.7.9"
  }
 },
 "nbformat": 4,
 "nbformat_minor": 5
}
