{
 "cells": [
  {
   "cell_type": "code",
   "execution_count": 7,
   "id": "9331671f",
   "metadata": {},
   "outputs": [],
   "source": [
    "import requests\n",
    "website=\"https://www.nytimes.com/interactive/2017/06/23/opinion/trumps-lies.html\"\n",
    "webpage=requests.get(website)\n"
   ]
  },
  {
   "cell_type": "code",
   "execution_count": 71,
   "id": "959e5833",
   "metadata": {},
   "outputs": [
    {
     "name": "stdout",
     "output_type": "stream",
     "text": [
      "180\n"
     ]
    },
    {
     "data": {
      "text/plain": [
       "\"I wasn't a fan of Iraq. I didn't want to go into Iraq.\""
      ]
     },
     "execution_count": 71,
     "metadata": {},
     "output_type": "execute_result"
    }
   ],
   "source": [
    "from bs4 import BeautifulSoup as soup\n",
    "html_object=soup(webpage.text,'html.parser')\n",
    "stats=html_object.findAll('span',{'class':'short-desc'})\n",
    "print(len(stats))\n",
    "date=stats[0].strong\n",
    "date.text[:-1]\n",
    "lies=stats[0].contents  # To extract the lies we don't have any tags or attributes,so we use\n",
    "#.contents which returns the item as  a list and then we extract the required element\n",
    "lies\n",
    "\n",
    "lies=lies[1][1:-2]\n",
    "lies"
   ]
  },
  {
   "cell_type": "code",
   "execution_count": 56,
   "id": "34309b8c",
   "metadata": {},
   "outputs": [],
   "source": [
    "l_date=[]\n",
    "for date in (stats):\n",
    "    l_date.append(date.strong.text[:-1])\n",
    "\n"
   ]
  },
  {
   "cell_type": "code",
   "execution_count": 62,
   "id": "c360e492",
   "metadata": {},
   "outputs": [],
   "source": [
    "l_lies=[]\n",
    "for lie in (stats):\n",
    "    l_lies.append(lie.contents[1][1:-2])\n"
   ]
  },
  {
   "cell_type": "code",
   "execution_count": 73,
   "id": "1f55d426",
   "metadata": {},
   "outputs": [
    {
     "data": {
      "text/plain": [
       "'https://www.buzzfeed.com/andrewkaczynski/in-2002-donald-trump-said-he-supported-invading-iraq-on-the'"
      ]
     },
     "execution_count": 73,
     "metadata": {},
     "output_type": "execute_result"
    }
   ],
   "source": [
    "truth_stats=html_object.findAll('span',{'class':'short-truth'})\n",
    "link=truth_stats[0].a.attrs['href']\n",
    "link"
   ]
  },
  {
   "cell_type": "code",
   "execution_count": 78,
   "id": "f2d2a6e6",
   "metadata": {},
   "outputs": [
    {
     "name": "stdout",
     "output_type": "stream",
     "text": [
      "180\n"
     ]
    }
   ],
   "source": [
    "l_links=[]\n",
    "for links in truth_stats:\n",
    "    l_links.append(links.a.attrs['href'])\n",
    "print(len(l_links))"
   ]
  },
  {
   "cell_type": "code",
   "execution_count": 98,
   "id": "cf940496",
   "metadata": {},
   "outputs": [
    {
     "data": {
      "text/plain": [
       "'He was for an invasion before he was against it.'"
      ]
     },
     "execution_count": 98,
     "metadata": {},
     "output_type": "execute_result"
    }
   ],
   "source": [
    "truth=truth_stats[0].text\n",
    "truth=truth[1:-1]\n",
    "truth\n"
   ]
  },
  {
   "cell_type": "code",
   "execution_count": 101,
   "id": "de7c4316",
   "metadata": {},
   "outputs": [
    {
     "name": "stdout",
     "output_type": "stream",
     "text": [
      "180\n"
     ]
    }
   ],
   "source": [
    "l_truth=[]\n",
    "for truth in truth_stats:\n",
    "    truth=truth.text\n",
    "    l_truth.append(truth[1:-1])\n",
    "print(len(l_truth))"
   ]
  },
  {
   "cell_type": "code",
   "execution_count": 112,
   "id": "2050cc8f",
   "metadata": {},
   "outputs": [],
   "source": [
    "import itertools\n",
    "data_set=[]\n",
    "for date,lie,truth,link in zip(l_date,l_lies,l_truth,l_links): #zip let us itreate over multiple lists\n",
    "    #at a time and runs till the smallest of all lists\n",
    "    data_set.append((date,lie,truth,link))\n"
   ]
  },
  {
   "cell_type": "code",
   "execution_count": 113,
   "id": "02fb07a0",
   "metadata": {},
   "outputs": [
    {
     "data": {
      "text/html": [
       "<div>\n",
       "<style scoped>\n",
       "    .dataframe tbody tr th:only-of-type {\n",
       "        vertical-align: middle;\n",
       "    }\n",
       "\n",
       "    .dataframe tbody tr th {\n",
       "        vertical-align: top;\n",
       "    }\n",
       "\n",
       "    .dataframe thead th {\n",
       "        text-align: right;\n",
       "    }\n",
       "</style>\n",
       "<table border=\"1\" class=\"dataframe\">\n",
       "  <thead>\n",
       "    <tr style=\"text-align: right;\">\n",
       "      <th></th>\n",
       "      <th>Date</th>\n",
       "      <th>Lie</th>\n",
       "      <th>Truth</th>\n",
       "      <th>Link</th>\n",
       "    </tr>\n",
       "  </thead>\n",
       "  <tbody>\n",
       "    <tr>\n",
       "      <th>0</th>\n",
       "      <td>Jan. 21</td>\n",
       "      <td>I wasn't a fan of Iraq. I didn't want to go in...</td>\n",
       "      <td>He was for an invasion before he was against it.</td>\n",
       "      <td>https://www.buzzfeed.com/andrewkaczynski/in-20...</td>\n",
       "    </tr>\n",
       "    <tr>\n",
       "      <th>1</th>\n",
       "      <td>Jan. 21</td>\n",
       "      <td>A reporter for Time magazine — and I have been...</td>\n",
       "      <td>Trump was on the cover 11 times and Nixon appe...</td>\n",
       "      <td>http://nation.time.com/2013/11/06/10-things-yo...</td>\n",
       "    </tr>\n",
       "    <tr>\n",
       "      <th>2</th>\n",
       "      <td>Jan. 23</td>\n",
       "      <td>Between 3 million and 5 million illegal votes ...</td>\n",
       "      <td>There's no evidence of illegal voting.</td>\n",
       "      <td>https://www.nytimes.com/2017/01/23/us/politics...</td>\n",
       "    </tr>\n",
       "    <tr>\n",
       "      <th>3</th>\n",
       "      <td>Jan. 25</td>\n",
       "      <td>Now, the audience was the biggest ever. But th...</td>\n",
       "      <td>Official aerial photos show Obama's 2009 inaug...</td>\n",
       "      <td>https://www.nytimes.com/2017/01/21/us/politics...</td>\n",
       "    </tr>\n",
       "    <tr>\n",
       "      <th>4</th>\n",
       "      <td>Jan. 25</td>\n",
       "      <td>Take a look at the Pew reports (which show vot...</td>\n",
       "      <td>The report never mentioned voter fraud.</td>\n",
       "      <td>https://www.nytimes.com/2017/01/24/us/politics...</td>\n",
       "    </tr>\n",
       "  </tbody>\n",
       "</table>\n",
       "</div>"
      ],
      "text/plain": [
       "      Date                                                Lie  \\\n",
       "0  Jan. 21  I wasn't a fan of Iraq. I didn't want to go in...   \n",
       "1  Jan. 21  A reporter for Time magazine — and I have been...   \n",
       "2  Jan. 23  Between 3 million and 5 million illegal votes ...   \n",
       "3  Jan. 25  Now, the audience was the biggest ever. But th...   \n",
       "4  Jan. 25  Take a look at the Pew reports (which show vot...   \n",
       "\n",
       "                                               Truth  \\\n",
       "0   He was for an invasion before he was against it.   \n",
       "1  Trump was on the cover 11 times and Nixon appe...   \n",
       "2             There's no evidence of illegal voting.   \n",
       "3  Official aerial photos show Obama's 2009 inaug...   \n",
       "4            The report never mentioned voter fraud.   \n",
       "\n",
       "                                                Link  \n",
       "0  https://www.buzzfeed.com/andrewkaczynski/in-20...  \n",
       "1  http://nation.time.com/2013/11/06/10-things-yo...  \n",
       "2  https://www.nytimes.com/2017/01/23/us/politics...  \n",
       "3  https://www.nytimes.com/2017/01/21/us/politics...  \n",
       "4  https://www.nytimes.com/2017/01/24/us/politics...  "
      ]
     },
     "execution_count": 113,
     "metadata": {},
     "output_type": "execute_result"
    }
   ],
   "source": [
    "import pandas as pd\n",
    "df=pd.DataFrame(data_set,columns=['Date','Lie','Truth','Link'])\n",
    "df.head()"
   ]
  },
  {
   "cell_type": "code",
   "execution_count": 118,
   "id": "39082a1b",
   "metadata": {},
   "outputs": [],
   "source": [
    "df.to_csv('Trump_Lies.csv',index=False,encoding='utf-8')"
   ]
  },
  {
   "cell_type": "code",
   "execution_count": 119,
   "id": "74045357",
   "metadata": {},
   "outputs": [
    {
     "data": {
      "text/html": [
       "<div>\n",
       "<style scoped>\n",
       "    .dataframe tbody tr th:only-of-type {\n",
       "        vertical-align: middle;\n",
       "    }\n",
       "\n",
       "    .dataframe tbody tr th {\n",
       "        vertical-align: top;\n",
       "    }\n",
       "\n",
       "    .dataframe thead th {\n",
       "        text-align: right;\n",
       "    }\n",
       "</style>\n",
       "<table border=\"1\" class=\"dataframe\">\n",
       "  <thead>\n",
       "    <tr style=\"text-align: right;\">\n",
       "      <th></th>\n",
       "      <th>Date</th>\n",
       "      <th>Lie</th>\n",
       "      <th>Truth</th>\n",
       "      <th>Link</th>\n",
       "    </tr>\n",
       "  </thead>\n",
       "  <tbody>\n",
       "    <tr>\n",
       "      <th>0</th>\n",
       "      <td>Jan. 21</td>\n",
       "      <td>I wasn't a fan of Iraq. I didn't want to go in...</td>\n",
       "      <td>He was for an invasion before he was against it.</td>\n",
       "      <td>https://www.buzzfeed.com/andrewkaczynski/in-20...</td>\n",
       "    </tr>\n",
       "    <tr>\n",
       "      <th>1</th>\n",
       "      <td>Jan. 21</td>\n",
       "      <td>A reporter for Time magazine — and I have been...</td>\n",
       "      <td>Trump was on the cover 11 times and Nixon appe...</td>\n",
       "      <td>http://nation.time.com/2013/11/06/10-things-yo...</td>\n",
       "    </tr>\n",
       "    <tr>\n",
       "      <th>2</th>\n",
       "      <td>Jan. 23</td>\n",
       "      <td>Between 3 million and 5 million illegal votes ...</td>\n",
       "      <td>There's no evidence of illegal voting.</td>\n",
       "      <td>https://www.nytimes.com/2017/01/23/us/politics...</td>\n",
       "    </tr>\n",
       "    <tr>\n",
       "      <th>3</th>\n",
       "      <td>Jan. 25</td>\n",
       "      <td>Now, the audience was the biggest ever. But th...</td>\n",
       "      <td>Official aerial photos show Obama's 2009 inaug...</td>\n",
       "      <td>https://www.nytimes.com/2017/01/21/us/politics...</td>\n",
       "    </tr>\n",
       "    <tr>\n",
       "      <th>4</th>\n",
       "      <td>Jan. 25</td>\n",
       "      <td>Take a look at the Pew reports (which show vot...</td>\n",
       "      <td>The report never mentioned voter fraud.</td>\n",
       "      <td>https://www.nytimes.com/2017/01/24/us/politics...</td>\n",
       "    </tr>\n",
       "    <tr>\n",
       "      <th>...</th>\n",
       "      <td>...</td>\n",
       "      <td>...</td>\n",
       "      <td>...</td>\n",
       "      <td>...</td>\n",
       "    </tr>\n",
       "    <tr>\n",
       "      <th>175</th>\n",
       "      <td>Oct. 25</td>\n",
       "      <td>We have trade deficits with almost everybody.</td>\n",
       "      <td>We have trade surpluses with more than 100 cou...</td>\n",
       "      <td>https://www.bea.gov/newsreleases/international...</td>\n",
       "    </tr>\n",
       "    <tr>\n",
       "      <th>176</th>\n",
       "      <td>Oct. 27</td>\n",
       "      <td>Wacky &amp; totally unhinged Tom Steyer, who has b...</td>\n",
       "      <td>Steyer has financially supported many winning ...</td>\n",
       "      <td>https://www.opensecrets.org/donor-lookup/resul...</td>\n",
       "    </tr>\n",
       "    <tr>\n",
       "      <th>177</th>\n",
       "      <td>Nov. 1</td>\n",
       "      <td>Again, we're the highest-taxed nation, just ab...</td>\n",
       "      <td>We're not.</td>\n",
       "      <td>http://www.politifact.com/truth-o-meter/statem...</td>\n",
       "    </tr>\n",
       "    <tr>\n",
       "      <th>178</th>\n",
       "      <td>Nov. 7</td>\n",
       "      <td>When you look at the city with the strongest g...</td>\n",
       "      <td>Several other cities, including New York and L...</td>\n",
       "      <td>http://www.politifact.com/truth-o-meter/statem...</td>\n",
       "    </tr>\n",
       "    <tr>\n",
       "      <th>179</th>\n",
       "      <td>Nov. 11</td>\n",
       "      <td>I'd rather have him  – you know, work with him...</td>\n",
       "      <td>There is no evidence that Democrats \"set up\" R...</td>\n",
       "      <td>https://www.nytimes.com/interactive/2017/12/10...</td>\n",
       "    </tr>\n",
       "  </tbody>\n",
       "</table>\n",
       "<p>180 rows × 4 columns</p>\n",
       "</div>"
      ],
      "text/plain": [
       "        Date                                                Lie  \\\n",
       "0    Jan. 21  I wasn't a fan of Iraq. I didn't want to go in...   \n",
       "1    Jan. 21  A reporter for Time magazine — and I have been...   \n",
       "2    Jan. 23  Between 3 million and 5 million illegal votes ...   \n",
       "3    Jan. 25  Now, the audience was the biggest ever. But th...   \n",
       "4    Jan. 25  Take a look at the Pew reports (which show vot...   \n",
       "..       ...                                                ...   \n",
       "175  Oct. 25      We have trade deficits with almost everybody.   \n",
       "176  Oct. 27  Wacky & totally unhinged Tom Steyer, who has b...   \n",
       "177   Nov. 1  Again, we're the highest-taxed nation, just ab...   \n",
       "178   Nov. 7  When you look at the city with the strongest g...   \n",
       "179  Nov. 11  I'd rather have him  – you know, work with him...   \n",
       "\n",
       "                                                 Truth  \\\n",
       "0     He was for an invasion before he was against it.   \n",
       "1    Trump was on the cover 11 times and Nixon appe...   \n",
       "2               There's no evidence of illegal voting.   \n",
       "3    Official aerial photos show Obama's 2009 inaug...   \n",
       "4              The report never mentioned voter fraud.   \n",
       "..                                                 ...   \n",
       "175  We have trade surpluses with more than 100 cou...   \n",
       "176  Steyer has financially supported many winning ...   \n",
       "177                                         We're not.   \n",
       "178  Several other cities, including New York and L...   \n",
       "179  There is no evidence that Democrats \"set up\" R...   \n",
       "\n",
       "                                                  Link  \n",
       "0    https://www.buzzfeed.com/andrewkaczynski/in-20...  \n",
       "1    http://nation.time.com/2013/11/06/10-things-yo...  \n",
       "2    https://www.nytimes.com/2017/01/23/us/politics...  \n",
       "3    https://www.nytimes.com/2017/01/21/us/politics...  \n",
       "4    https://www.nytimes.com/2017/01/24/us/politics...  \n",
       "..                                                 ...  \n",
       "175  https://www.bea.gov/newsreleases/international...  \n",
       "176  https://www.opensecrets.org/donor-lookup/resul...  \n",
       "177  http://www.politifact.com/truth-o-meter/statem...  \n",
       "178  http://www.politifact.com/truth-o-meter/statem...  \n",
       "179  https://www.nytimes.com/interactive/2017/12/10...  \n",
       "\n",
       "[180 rows x 4 columns]"
      ]
     },
     "execution_count": 119,
     "metadata": {},
     "output_type": "execute_result"
    }
   ],
   "source": [
    "df.head(181)"
   ]
  },
  {
   "cell_type": "code",
   "execution_count": null,
   "id": "148e8ba4",
   "metadata": {},
   "outputs": [],
   "source": []
  },
  {
   "cell_type": "code",
   "execution_count": null,
   "id": "36db2641",
   "metadata": {},
   "outputs": [],
   "source": []
  }
 ],
 "metadata": {
  "kernelspec": {
   "display_name": "Python 3 (ipykernel)",
   "language": "python",
   "name": "python3"
  },
  "language_info": {
   "codemirror_mode": {
    "name": "ipython",
    "version": 3
   },
   "file_extension": ".py",
   "mimetype": "text/x-python",
   "name": "python",
   "nbconvert_exporter": "python",
   "pygments_lexer": "ipython3",
   "version": "3.7.9"
  }
 },
 "nbformat": 4,
 "nbformat_minor": 5
}
